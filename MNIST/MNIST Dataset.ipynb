{
 "cells": [
  {
   "cell_type": "code",
   "execution_count": 282,
   "metadata": {},
   "outputs": [],
   "source": [
    "# Importing libraries and dataset\n",
    "import numpy as np\n",
    "import tensorflow as tf\n",
    "import matplotlib.pyplot as plt\n",
    "\n",
    "mnist = tf.keras.datasets.mnist\n",
    "(xTrain, yTrain), (xTest, yTest) = mnist.load_data()"
   ]
  },
  {
   "cell_type": "code",
   "execution_count": 283,
   "metadata": {
    "scrolled": true
   },
   "outputs": [
    {
     "data": {
      "text/plain": [
       "<matplotlib.image.AxesImage at 0x1b0ef7be9e8>"
      ]
     },
     "execution_count": 283,
     "metadata": {},
     "output_type": "execute_result"
    },
    {
     "data": {
      "image/png": "[encoded data removed]",
      "text/plain": [
       "<matplotlib.figure.Figure at 0x1b0ef79c5f8>"
      ]
     },
     "metadata": {},
     "output_type": "display_data"
    }
   ],
   "source": [
    "# Example dataset\n",
    "plt.imshow(xTrain[0], cmap='binary')"
   ]
  },
  {
   "cell_type": "code",
   "execution_count": 284,
   "metadata": {},
   "outputs": [],
   "source": [
    "# Normalize the data to 0-1\n",
    "xTrain = xTrain / 255.0;\n",
    "xTest = xTest / 255.0;\n",
    "\n",
    "# Reshape the inputs to be a column vector\n",
    "xTrain = xTrain.reshape(-1, 784)\n",
    "xTest = xTest.reshape(-1, 784)\n",
    "\n",
    "# One-hot encoding for the targets\n",
    "yTrainOneHot = np.zeros((60000, 10))\n",
    "yTrainOneHot[np.arange(60000), yTrain] = 1\n",
    "\n",
    "yTestOneHot = np.zeros((len(yTest), 10))\n",
    "yTestOneHot[np.arange(len(yTest)), yTest] = 1"
   ]
  },
  {
   "cell_type": "code",
   "execution_count": 285,
   "metadata": {},
   "outputs": [],
   "source": [
    "# Initialize tweaking variables\n",
    "learningRate = 0.005;\n",
    "epochs = 30;\n",
    "batch_size = 100;\n",
    "\n",
    "# Placeholder for running batch optimization\n",
    "x = tf.placeholder(tf.float32, [None, 784])\n",
    "y = tf.placeholder(tf.float32, [None, 10])"
   ]
  },
  {
   "cell_type": "code",
   "execution_count": 286,
   "metadata": {},
   "outputs": [],
   "source": [
    "# Setting initial bias and weights\n",
    "W1 = tf.Variable(tf.random_normal([784, 300], stddev=0.1), name=\"W1\")\n",
    "B1 = tf.Variable(tf.random_normal([300]), name=\"B1\")\n",
    "\n",
    "W2 = tf.Variable(tf.random_normal([300, 10], stddev=0.1), name=\"W2\")\n",
    "B2 = tf.Variable(tf.random_normal([10]), name=\"B2\")"
   ]
  },
  {
   "cell_type": "code",
   "execution_count": 287,
   "metadata": {},
   "outputs": [],
   "source": [
    "# Defining operation between layers\n",
    "hidden_out = tf.add(tf.matmul(x, W1), B1)\n",
    "hidden_out = tf.nn.relu(hidden_out)"
   ]
  },
  {
   "cell_type": "code",
   "execution_count": 288,
   "metadata": {},
   "outputs": [],
   "source": [
    "# Define the last activation function to produce output\n",
    "outputY = tf.nn.softmax(tf.add(tf.matmul(hidden_out, W2), B2))"
   ]
  },
  {
   "cell_type": "code",
   "execution_count": 289,
   "metadata": {},
   "outputs": [],
   "source": [
    "# Calculating loss; adding 1e-10 prevents taking logarithm of 0\n",
    "cross_entropy = -tf.reduce_sum(y*tf.log(outputY + 1e-10))"
   ]
  },
  {
   "cell_type": "code",
   "execution_count": 290,
   "metadata": {},
   "outputs": [],
   "source": [
    "# Defining the optimizer to minimize cross_entropy loss\n",
    "optimiser = tf.train.GradientDescentOptimizer(learning_rate=learningRate).minimize(cross_entropy)"
   ]
  },
  {
   "cell_type": "code",
   "execution_count": 291,
   "metadata": {},
   "outputs": [],
   "source": [
    "init_op = tf.global_variables_initializer()\n",
    "\n",
    "# Calculate accuracy by taking the mean of correct predictions\n",
    "correctPrediction = tf.equal(tf.argmax(y, 1), tf.argmax(outputY, 1))\n",
    "accuracy = tf.reduce_mean(tf.cast(correctPrediction, tf.float32))"
   ]
  },
  {
   "cell_type": "code",
   "execution_count": 374,
   "metadata": {},
   "outputs": [
    {
     "name": "stdout",
     "output_type": "stream",
     "text": [
      "Epoch: 1 cost = 42.449\n",
      "Epoch: 2 cost = 11.749\n",
      "Epoch: 3 cost = 8.138\n",
      "Epoch: 4 cost = 6.154\n",
      "Epoch: 5 cost = 4.744\n",
      "Epoch: 6 cost = 3.727\n",
      "Epoch: 7 cost = 2.934\n",
      "Epoch: 8 cost = 2.336\n",
      "Epoch: 9 cost = 1.848\n",
      "Epoch: 10 cost = 1.466\n",
      "Epoch: 11 cost = 1.172\n",
      "Epoch: 12 cost = 0.951\n",
      "Epoch: 13 cost = 0.784\n",
      "Epoch: 14 cost = 0.656\n",
      "Epoch: 15 cost = 0.554\n",
      "Epoch: 16 cost = 0.475\n",
      "Epoch: 17 cost = 0.413\n",
      "Epoch: 18 cost = 0.364\n",
      "Epoch: 19 cost = 0.325\n",
      "Epoch: 20 cost = 0.290\n",
      "Epoch: 21 cost = 0.263\n",
      "Epoch: 22 cost = 0.239\n",
      "Epoch: 23 cost = 0.219\n",
      "Epoch: 24 cost = 0.202\n",
      "Epoch: 25 cost = 0.187\n",
      "Epoch: 26 cost = 0.174\n",
      "Epoch: 27 cost = 0.163\n",
      "Epoch: 28 cost = 0.153\n",
      "Epoch: 29 cost = 0.144\n",
      "Epoch: 30 cost = 0.136\n",
      "Accuracy: 98.020 %\n"
     ]
    }
   ],
   "source": [
    "# Run the training\n",
    "costArray = [0] * epochs\n",
    "\n",
    "with tf.Session() as sess:\n",
    "    sess.run(init_op)\n",
    "    totalBatch = int(len(xTrain) / batch_size)\n",
    "    for epoch in range (epochs):\n",
    "        avgCost = 0\n",
    "        for i in range(totalBatch):\n",
    "            batchX, batchY = xTrain[i*batch_size : (i+1)*batch_size], yTrainOneHot[i*batch_size : (i+1)*batch_size]\n",
    "            _, cost = sess.run([optimiser, cross_entropy], feed_dict={x: batchX, y: batchY})\n",
    "            avgCost += cost/totalBatch\n",
    "        print(\"Epoch:\", (epoch+1), \"cost =\", \"{:.3f}\".format(avgCost))\n",
    "        costArray[epoch] = avgCost\n",
    "    print(\"Accuracy:\", \"{:.3f} %\".format(sess.run(accuracy, feed_dict={x:xTest, y:yTestOneHot}) * 100))"
   ]
  },
  {
   "cell_type": "code",
   "execution_count": 387,
   "metadata": {},
   "outputs": [
    {
     "data": {
      "image/png": "[encoded data removed]",
      "text/plain": [
       "<matplotlib.figure.Figure at 0x1b0f3aa0c88>"
      ]
     },
     "metadata": {},
     "output_type": "display_data"
    }
   ],
   "source": [
    "fig, ax = plt.subplots()\n",
    "\n",
    "ax.plot(np.arange(epochs), costArray)\n",
    "ax.set_title(\"Graph of Loss vs Epochs\")\n",
    "ax.set_ylabel(\"Cross-entropy Loss\")\n",
    "ax.set_xlabel(\"Epochs\")\n",
    "plt.show()"
   ]
  },
  {
   "cell_type": "code",
   "execution_count": null,
   "metadata": {},
   "outputs": [],
   "source": []
  }
 ],
 "metadata": {
  "kernelspec": {
   "display_name": "Python 3",
   "language": "python",
   "name": "python3"
  },
  "language_info": {
   "codemirror_mode": {
    "name": "ipython",
    "version": 3
   },
   "file_extension": ".py",
   "mimetype": "text/x-python",
   "name": "python",
   "nbconvert_exporter": "python",
   "pygments_lexer": "ipython3",
   "version": "3.5.4"
  }
 },
 "nbformat": 4,
 "nbformat_minor": 2
}
